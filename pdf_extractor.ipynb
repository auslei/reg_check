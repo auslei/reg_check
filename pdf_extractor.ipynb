{
 "cells": [
  {
   "cell_type": "code",
   "execution_count": 26,
   "metadata": {},
   "outputs": [],
   "source": [
    "import PyPDF2\n",
    "import tqdm\n",
    "import re\n"
   ]
  },
  {
   "cell_type": "code",
   "execution_count": 27,
   "metadata": {},
   "outputs": [],
   "source": [
    "import re\n",
    "\n",
    "def preprocess_text(text):\n",
    "    # Remove page titles like \"ABCB Housing Provisions Standard 2022 Page 22\"\n",
    "    return re.sub(r'ABCB Housing Provisions Standard \\d+ Page \\d+', '', text)\n",
    "\n",
    "def extract_sections(text):\n",
    "    # Preprocess the text\n",
    "    text = preprocess_text(text)\n",
    "    \n",
    "    # Regular expression pattern to match section headers\n",
    "    # It starts with newline, captures multiple spaces, then section numbers, then multiple spaces, and then the title\n",
    "    pattern = re.compile(r'\\n\\s*(\\d+(\\.\\d+)*)\\s+([^0-9\\n]+)')\n",
    "    \n",
    "    matches = [match for match in pattern.finditer(text)]\n",
    "    sections = []\n",
    "\n",
    "    for i, match in enumerate(matches):\n",
    "        start = match.start()\n",
    "        end = matches[i+1].start() if i+1 < len(matches) else None\n",
    "        sections.append(text[start:end].strip())\n",
    "\n",
    "    return sections\n",
    "\n",
    "text = \"\"\"\n",
    "1 Introduction\n",
    "Some introduction text here.\n",
    "ABCB Housing Provisions Standard 2022 Page 21\n",
    "\n",
    "   2.1 Section Title\n",
    "Content for section 2.1.\n",
    "\n",
    "   2.1.1   Sub-section Title\n",
    "Content for sub-section 2.1.1.\n",
    "\n",
    "   2.1.2   Another Sub-section Title\n",
    "Content for sub-section 2.1.2.\n",
    "\n",
    " 2.2 New Section\n",
    "Content for section 2.2.\n",
    "ABCB Housing Provisions Standard 2022 Page 22\n",
    "\"\"\"\n",
    "\n",
    "sections = extract_sections(page_content[21])\n",
    "\n",
    "# Printing sections\n",
    "for section in sections:\n",
    "    print(section)\n",
    "    print(\"-\" * 50)  # Just to separate sections in the output"
   ]
  },
  {
   "cell_type": "code",
   "execution_count": 9,
   "metadata": {},
   "outputs": [],
   "source": [
    "url = \"https://ncc.abcb.gov.au/system/files/ncc/abcb-housing-provisions-2022-20230501b.pdf\"\n",
    "path = \"./data/abcb-housing-provisions-2022-20230501b.pdf\"\n",
    "\n",
    "reader = PyPDF2.PdfReader(path)\n",
    "book_title = reader.metadata[\"/Title\"]"
   ]
  },
  {
   "cell_type": "code",
   "execution_count": 24,
   "metadata": {},
   "outputs": [
    {
     "name": "stdout",
     "output_type": "stream",
     "text": [
      "576 pages has been read.\n"
     ]
    }
   ],
   "source": [
    "page_content = []\n",
    "for page in tqdm(reader.pages):\n",
    "    page_text = page.extract_text()\n",
    "    page_number = page + 1\n",
    "    page_content.append(page.extract_text())\n",
    "\n",
    "print(f\"{len(page_content)} pages has been read.\")"
   ]
  },
  {
   "cell_type": "code",
   "execution_count": 42,
   "metadata": {},
   "outputs": [
    {
     "name": "stdout",
     "output_type": "stream",
     "text": [
      "Structure\n",
      "ABCB Housing Provisions Standard 2022 Page 20  \n",
      " 2 Structure\n",
      "Part 2.1 Scope and application of Section 2\n",
      "2.1.1 Scope\n",
      "2.1.2 Application\n",
      "Part 2.2  Structural provisions \n",
      "2.2.1 Application of Part 2.2\n",
      "2.2.2 Resistance to actions\n",
      "2.2.3 Determination of individual actions\n",
      "2.2.4 Determination of structural resistance of materials and forms of  \n",
      "construction\n",
      "2.2.5 Structural software\n",
      " (1 May 2023)\n"
     ]
    }
   ],
   "source": [
    "#for p in tqdm.tqdm(page_content):\n",
    "#    print(extract_page_number(p))\n",
    "\n",
    "print(page_content[19])"
   ]
  },
  {
   "cell_type": "code",
   "execution_count": 21,
   "metadata": {},
   "outputs": [
    {
     "data": {
      "text/plain": [
       "{'/Author': 'Australian Building Codes Board',\n",
       " '/CreationDate': 'D:20230424000135Z',\n",
       " '/Creator': 'QuarkXPress(R) 16.42',\n",
       " '/ModDate': \"D:20230713151638+10'00'\",\n",
       " '/Producer': 'QuarkXPress(R) 16.42',\n",
       " '/Title': 'ABCB Housing Provisions',\n",
       " '/XPressPrivate': '%%DocumentProcessColors: Cyan Magenta Yellow Black\\n%%EndComments'}"
      ]
     },
     "execution_count": 21,
     "metadata": {},
     "output_type": "execute_result"
    }
   ],
   "source": [
    "reader.metadata"
   ]
  },
  {
   "cell_type": "code",
   "execution_count": 23,
   "metadata": {},
   "outputs": [],
   "source": []
  },
  {
   "cell_type": "code",
   "execution_count": 54,
   "metadata": {},
   "outputs": [
    {
     "name": "stdout",
     "output_type": "stream",
     "text": [
      "2.2.1   Application of Part 2.2 \n",
      "[New for 2022]  \n",
      "Part 2.2  need not be complied with if, for the purposes of H1D2(b) only, the Deemed-to-Satisfy Provisions  of H1D3 to  \n",
      "H1D11 relating to structural elements are complied with.\n",
      "--------------------------------------------------\n",
      "2.2.2   Resistance to actions  \n",
      "[2019: 3.0.2]  \n",
      "The resistance of a building or structure must be greater than the most critical action effect resulting from different  \n",
      "combinations of actions, where—  \n",
      "the most critical action effect on a building or structure must be determined in accordance with 2.2.3  and the  (a)\n",
      "general design procedures contained in AS/NZS 1170.0; and  \n",
      "the resistance of a building or structure is determined in accordance with 2.2.4 . (b)\n",
      " \n",
      "Explanatory Information  \n",
      "A building or structure must be designed to resist the most critical effect resulting from different combinations of actions,  \n",
      "taking into consideration—  \n",
      "the probability of simultaneous occurrence of two or more actions; and  •\n",
      "the levels of reliability of the structure when subject to combined actions; and  •\n",
      "the characteristics of the action. •\n",
      "Determining the levels of reliability of the structure when subject to combined actions should be consistent with the  \n",
      "levels of reliability implicit in the design events for natural phenomenon. When designing for the maximum combined  \n",
      "actions, a principle frequently adopted is that the maximum is likely to occur when at least one of the actions is at its  \n",
      "maximum value.  \n",
      " \n",
      " \n",
      "WA 2.2.3\n",
      "--------------------------------------------------\n",
      "2.2.3   Determination of individual actions  \n",
      "[2019: 3.0.3]  \n",
      "The magnitude of individual actions must be determined in accordance with the following:  \n",
      "Permanent actions:  (a)\n",
      "the design or known dimensions of the building or structure; and  (i)\n",
      "the unit weight of the construction; and  (ii)\n",
      "AS/NZS 1170.1. (iii)\n",
      "Imposed actions:  (b)\n",
      "the known loads that will be imposed during the occupation or use of the building or structure; and  (i)\n",
      "construction activity actions ; and  (ii)\n",
      "AS/NZS 1170.1. (iii)\n",
      "Wind, snow and earthquake actions:  (c)\n",
      "the applicable annual probability of design event for safety, determined by—  (i)\n",
      "assigning the building or structure an Importance Level in accordance with Table 2.2.3a ; and  (A)\n",
      "determining the corresponding annual probability of exceedance for safety in accordance with Table  (B)Part 2.2  Structural provisions \n",
      " (1 May 2023)\n",
      "--------------------------------------------------\n"
     ]
    }
   ],
   "source": [
    "\n"
   ]
  },
  {
   "cell_type": "code",
   "execution_count": 50,
   "metadata": {},
   "outputs": [
    {
     "name": "stdout",
     "output_type": "stream",
     "text": [
      "Structure\n",
      "ABCB Housing Provisions Standard 2022 Page 22  \n",
      " \n",
      " 2.2.1   Application of Part 2.2 \n",
      "[New for 2022]  \n",
      "Part 2.2  need not be complied with if, for the purposes of H1D2(b) only, the Deemed-to-Satisfy Provisions  of H1D3 to  \n",
      "H1D11 relating to structural elements are complied with.  \n",
      " 2.2.2   Resistance to actions  \n",
      "[2019: 3.0.2]  \n",
      "The resistance of a building or structure must be greater than the most critical action effect resulting from different  \n",
      "combinations of actions, where—  \n",
      "the most critical action effect on a building or structure must be determined in accordance with 2.2.3  and the  (a)\n",
      "general design procedures contained in AS/NZS 1170.0; and  \n",
      "the resistance of a building or structure is determined in accordance with 2.2.4 . (b)\n",
      " \n",
      "Explanatory Information  \n",
      "A building or structure must be designed to resist the most critical effect resulting from different combinations of actions,  \n",
      "taking into consideration—  \n",
      "the probability of simultaneous occurrence of two or more actions; and  •\n",
      "the levels of reliability of the structure when subject to combined actions; and  •\n",
      "the characteristics of the action. •\n",
      "Determining the levels of reliability of the structure when subject to combined actions should be consistent with the  \n",
      "levels of reliability implicit in the design events for natural phenomenon. When designing for the maximum combined  \n",
      "actions, a principle frequently adopted is that the maximum is likely to occur when at least one of the actions is at its  \n",
      "maximum value.  \n",
      " \n",
      " \n",
      "WA 2.2.3  \n",
      " 2.2.3   Determination of individual actions  \n",
      "[2019: 3.0.3]  \n",
      "The magnitude of individual actions must be determined in accordance with the following:  \n",
      "Permanent actions:  (a)\n",
      "the design or known dimensions of the building or structure; and  (i)\n",
      "the unit weight of the construction; and  (ii)\n",
      "AS/NZS 1170.1. (iii)\n",
      "Imposed actions:  (b)\n",
      "the known loads that will be imposed during the occupation or use of the building or structure; and  (i)\n",
      "construction activity actions ; and  (ii)\n",
      "AS/NZS 1170.1. (iii)\n",
      "Wind, snow and earthquake actions:  (c)\n",
      "the applicable annual probability of design event for safety, determined by—  (i)\n",
      "assigning the building or structure an Importance Level in accordance with Table 2.2.3a ; and  (A)\n",
      "determining the corresponding annual probability of exceedance for safety in accordance with Table  (B)Part 2.2  Structural provisions \n",
      " (1 May 2023)\n"
     ]
    }
   ],
   "source": [
    "print(page_content[21])"
   ]
  },
  {
   "cell_type": "code",
   "execution_count": null,
   "metadata": {},
   "outputs": [],
   "source": []
  }
 ],
 "metadata": {
  "kernelspec": {
   "display_name": "torch",
   "language": "python",
   "name": "python3"
  },
  "language_info": {
   "codemirror_mode": {
    "name": "ipython",
    "version": 3
   },
   "file_extension": ".py",
   "mimetype": "text/x-python",
   "name": "python",
   "nbconvert_exporter": "python",
   "pygments_lexer": "ipython3",
   "version": "3.11.3"
  },
  "orig_nbformat": 4
 },
 "nbformat": 4,
 "nbformat_minor": 2
}
