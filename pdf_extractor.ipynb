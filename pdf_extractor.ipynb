{
 "cells": [
  {
   "cell_type": "code",
   "execution_count": 1,
   "metadata": {},
   "outputs": [],
   "source": [
    "import PyPDF2\n",
    "from tqdm import tqdm\n",
    "import re\n"
   ]
  },
  {
   "cell_type": "code",
   "execution_count": 10,
   "metadata": {},
   "outputs": [
    {
     "name": "stdout",
     "output_type": "stream",
     "text": [
      "{'section_number': '1', 'section_title': 'Introduction', 'section_text': 'Some introduction text here.'}\n",
      "--------------------------------------------------\n",
      "{'section_number': '2.1', 'section_title': 'Section Title', 'section_text': 'Content for section 2.1.'}\n",
      "--------------------------------------------------\n",
      "{'section_number': '2.1.1', 'section_title': 'Sub-section Title', 'section_text': 'Content for sub-section 2.1.1.'}\n",
      "--------------------------------------------------\n",
      "{'section_number': '2.1.2', 'section_title': 'Another Sub-section Title', 'section_text': 'Content for sub-section 2.1.2.'}\n",
      "--------------------------------------------------\n",
      "{'section_number': '2.2', 'section_title': 'New Section', 'section_text': 'Content for section 2.2.'}\n",
      "--------------------------------------------------\n"
     ]
    }
   ],
   "source": [
    "import re\n",
    "\n",
    "def preprocess_text(text):\n",
    "    # Remove page titles like \"ABCB Housing Provisions Standard 2022 Page 22\"\n",
    "    return re.sub(r'ABCB Housing Provisions Standard \\d+ Page \\d+', '', text)\n",
    "\n",
    "def extract_sections(text):\n",
    "    # Preprocess the text\n",
    "    text = preprocess_text(text)\n",
    "    \n",
    "    # Regular expression pattern to match section headers\n",
    "    pattern = re.compile(r'\\n\\s*(\\d+(\\.\\d+)*)\\s+([^0-9\\n]+)')\n",
    "    \n",
    "    matches = [match for match in pattern.finditer(text)]\n",
    "    \n",
    "    sections = []\n",
    "    for i, match in enumerate(matches):\n",
    "        start = match.end()\n",
    "        end = matches[i+1].start() if i+1 < len(matches) else None\n",
    "        \n",
    "        section_number = match.group(1)\n",
    "        section_title = match.group(3).strip()\n",
    "        section_text = text[start:end].strip()\n",
    "        \n",
    "        sections.append({\n",
    "            \"section_number\": section_number,\n",
    "            \"section_title\": section_title,\n",
    "            \"section_text\": section_text\n",
    "        })\n",
    "\n",
    "    return sections\n",
    "\n",
    "text = \"\"\"\n",
    "1 Introduction\n",
    "Some introduction text here.\n",
    "ABCB Housing Provisions Standard 2022 Page 21\n",
    "\n",
    "   2.1 Section Title\n",
    "Content for section 2.1.\n",
    "\n",
    "   2.1.1   Sub-section Title\n",
    "Content for sub-section 2.1.1.\n",
    "\n",
    "   2.1.2   Another Sub-section Title\n",
    "Content for sub-section 2.1.2.\n",
    "\n",
    " 2.2 New Section\n",
    "Content for section 2.2.\n",
    "ABCB Housing Provisions Standard 2022 Page 22\n",
    "\"\"\"\n",
    "\n",
    "sections = extract_sections(text)\n",
    "\n",
    "# Printing sections\n",
    "for section in sections:\n",
    "    print(section)\n",
    "    print(\"-\" * 50)  # Just to separate sections in the output\n"
   ]
  },
  {
   "cell_type": "code",
   "execution_count": 3,
   "metadata": {},
   "outputs": [],
   "source": [
    "url = \"https://ncc.abcb.gov.au/system/files/ncc/abcb-housing-provisions-2022-20230501b.pdf\"\n",
    "path = \"./data/abcb-housing-provisions-2022-20230501b.pdf\"\n"
   ]
  },
  {
   "cell_type": "code",
   "execution_count": 5,
   "metadata": {},
   "outputs": [],
   "source": [
    "# read the pdf and split them into regulations\n",
    "def read_pdf(path):\n",
    "    reader = PyPDF2.PdfReader(path)\n",
    "    book_title = reader.metadata[\"/Title\"]\n",
    "    page_contents = []\n",
    "    page_number = 0\n",
    "    for page in tqdm(reader.pages):\n",
    "        page_text = page.extract_text()\n",
    "        page_number += 1\n",
    "        sections = extract_sections(page_text)\n",
    "        \n",
    "        for section in sections:\n",
    "            section[\"page_number\"] = page_number\n",
    "            section[\"book_title\"] = book_title\n",
    "            page_contents.append(page.extract_text())\n",
    "\n",
    "    print(f\"{len(page_content)} pages has been read.\")\n",
    "\n",
    "    return page_contents"
   ]
  },
  {
   "cell_type": "code",
   "execution_count": 9,
   "metadata": {},
   "outputs": [
    {
     "name": "stdout",
     "output_type": "stream",
     "text": [
      "Collecting PyCryptodome\n",
      "  Obtaining dependency information for PyCryptodome from https://files.pythonhosted.org/packages/3f/a1/72ad8fbeb2630e74fa89622ab24ec0ce46dc93dc172156f1a112eb76c014/pycryptodome-3.18.0-cp35-abi3-win_amd64.whl.metadata\n",
      "  Downloading pycryptodome-3.18.0-cp35-abi3-win_amd64.whl.metadata (3.4 kB)\n",
      "Downloading pycryptodome-3.18.0-cp35-abi3-win_amd64.whl (1.7 MB)\n",
      "   ---------------------------------------- 0.0/1.7 MB ? eta -:--:--\n",
      "   - -------------------------------------- 0.1/1.7 MB 2.3 MB/s eta 0:00:01\n",
      "   ------ --------------------------------- 0.3/1.7 MB 3.5 MB/s eta 0:00:01\n",
      "   ------------------ --------------------- 0.8/1.7 MB 6.4 MB/s eta 0:00:01\n",
      "   -------------------------------- ------- 1.4/1.7 MB 8.2 MB/s eta 0:00:01\n",
      "   ---------------------------------------  1.7/1.7 MB 8.5 MB/s eta 0:00:01\n",
      "   ---------------------------------------- 1.7/1.7 MB 7.9 MB/s eta 0:00:00\n",
      "Installing collected packages: PyCryptodome\n",
      "Successfully installed PyCryptodome-3.18.0\n",
      "Note: you may need to restart the kernel to use updated packages.\n"
     ]
    }
   ],
   "source": [
    "%pip install PyCryptodome \n",
    "#for p in tqdm.tqdm(page_content):\n",
    "#    print(extract_page_number(p))\n",
    "\n",
    "#print(page_content[19])"
   ]
  },
  {
   "cell_type": "code",
   "execution_count": 21,
   "metadata": {},
   "outputs": [
    {
     "data": {
      "text/plain": [
       "{'/Author': 'Australian Building Codes Board',\n",
       " '/CreationDate': 'D:20230424000135Z',\n",
       " '/Creator': 'QuarkXPress(R) 16.42',\n",
       " '/ModDate': \"D:20230713151638+10'00'\",\n",
       " '/Producer': 'QuarkXPress(R) 16.42',\n",
       " '/Title': 'ABCB Housing Provisions',\n",
       " '/XPressPrivate': '%%DocumentProcessColors: Cyan Magenta Yellow Black\\n%%EndComments'}"
      ]
     },
     "execution_count": 21,
     "metadata": {},
     "output_type": "execute_result"
    }
   ],
   "source": [
    "reader.metadata"
   ]
  },
  {
   "cell_type": "code",
   "execution_count": 23,
   "metadata": {},
   "outputs": [],
   "source": []
  },
  {
   "cell_type": "code",
   "execution_count": 54,
   "metadata": {},
   "outputs": [
    {
     "name": "stdout",
     "output_type": "stream",
     "text": [
      "2.2.1   Application of Part 2.2 \n",
      "[New for 2022]  \n",
      "Part 2.2  need not be complied with if, for the purposes of H1D2(b) only, the Deemed-to-Satisfy Provisions  of H1D3 to  \n",
      "H1D11 relating to structural elements are complied with.\n",
      "--------------------------------------------------\n",
      "2.2.2   Resistance to actions  \n",
      "[2019: 3.0.2]  \n",
      "The resistance of a building or structure must be greater than the most critical action effect resulting from different  \n",
      "combinations of actions, where—  \n",
      "the most critical action effect on a building or structure must be determined in accordance with 2.2.3  and the  (a)\n",
      "general design procedures contained in AS/NZS 1170.0; and  \n",
      "the resistance of a building or structure is determined in accordance with 2.2.4 . (b)\n",
      " \n",
      "Explanatory Information  \n",
      "A building or structure must be designed to resist the most critical effect resulting from different combinations of actions,  \n",
      "taking into consideration—  \n",
      "the probability of simultaneous occurrence of two or more actions; and  •\n",
      "the levels of reliability of the structure when subject to combined actions; and  •\n",
      "the characteristics of the action. •\n",
      "Determining the levels of reliability of the structure when subject to combined actions should be consistent with the  \n",
      "levels of reliability implicit in the design events for natural phenomenon. When designing for the maximum combined  \n",
      "actions, a principle frequently adopted is that the maximum is likely to occur when at least one of the actions is at its  \n",
      "maximum value.  \n",
      " \n",
      " \n",
      "WA 2.2.3\n",
      "--------------------------------------------------\n",
      "2.2.3   Determination of individual actions  \n",
      "[2019: 3.0.3]  \n",
      "The magnitude of individual actions must be determined in accordance with the following:  \n",
      "Permanent actions:  (a)\n",
      "the design or known dimensions of the building or structure; and  (i)\n",
      "the unit weight of the construction; and  (ii)\n",
      "AS/NZS 1170.1. (iii)\n",
      "Imposed actions:  (b)\n",
      "the known loads that will be imposed during the occupation or use of the building or structure; and  (i)\n",
      "construction activity actions ; and  (ii)\n",
      "AS/NZS 1170.1. (iii)\n",
      "Wind, snow and earthquake actions:  (c)\n",
      "the applicable annual probability of design event for safety, determined by—  (i)\n",
      "assigning the building or structure an Importance Level in accordance with Table 2.2.3a ; and  (A)\n",
      "determining the corresponding annual probability of exceedance for safety in accordance with Table  (B)Part 2.2  Structural provisions \n",
      " (1 May 2023)\n",
      "--------------------------------------------------\n"
     ]
    }
   ],
   "source": [
    "\n"
   ]
  },
  {
   "cell_type": "code",
   "execution_count": 50,
   "metadata": {},
   "outputs": [
    {
     "name": "stdout",
     "output_type": "stream",
     "text": [
      "Structure\n",
      "ABCB Housing Provisions Standard 2022 Page 22  \n",
      " \n",
      " 2.2.1   Application of Part 2.2 \n",
      "[New for 2022]  \n",
      "Part 2.2  need not be complied with if, for the purposes of H1D2(b) only, the Deemed-to-Satisfy Provisions  of H1D3 to  \n",
      "H1D11 relating to structural elements are complied with.  \n",
      " 2.2.2   Resistance to actions  \n",
      "[2019: 3.0.2]  \n",
      "The resistance of a building or structure must be greater than the most critical action effect resulting from different  \n",
      "combinations of actions, where—  \n",
      "the most critical action effect on a building or structure must be determined in accordance with 2.2.3  and the  (a)\n",
      "general design procedures contained in AS/NZS 1170.0; and  \n",
      "the resistance of a building or structure is determined in accordance with 2.2.4 . (b)\n",
      " \n",
      "Explanatory Information  \n",
      "A building or structure must be designed to resist the most critical effect resulting from different combinations of actions,  \n",
      "taking into consideration—  \n",
      "the probability of simultaneous occurrence of two or more actions; and  •\n",
      "the levels of reliability of the structure when subject to combined actions; and  •\n",
      "the characteristics of the action. •\n",
      "Determining the levels of reliability of the structure when subject to combined actions should be consistent with the  \n",
      "levels of reliability implicit in the design events for natural phenomenon. When designing for the maximum combined  \n",
      "actions, a principle frequently adopted is that the maximum is likely to occur when at least one of the actions is at its  \n",
      "maximum value.  \n",
      " \n",
      " \n",
      "WA 2.2.3  \n",
      " 2.2.3   Determination of individual actions  \n",
      "[2019: 3.0.3]  \n",
      "The magnitude of individual actions must be determined in accordance with the following:  \n",
      "Permanent actions:  (a)\n",
      "the design or known dimensions of the building or structure; and  (i)\n",
      "the unit weight of the construction; and  (ii)\n",
      "AS/NZS 1170.1. (iii)\n",
      "Imposed actions:  (b)\n",
      "the known loads that will be imposed during the occupation or use of the building or structure; and  (i)\n",
      "construction activity actions ; and  (ii)\n",
      "AS/NZS 1170.1. (iii)\n",
      "Wind, snow and earthquake actions:  (c)\n",
      "the applicable annual probability of design event for safety, determined by—  (i)\n",
      "assigning the building or structure an Importance Level in accordance with Table 2.2.3a ; and  (A)\n",
      "determining the corresponding annual probability of exceedance for safety in accordance with Table  (B)Part 2.2  Structural provisions \n",
      " (1 May 2023)\n"
     ]
    }
   ],
   "source": [
    "print(page_content[21])"
   ]
  },
  {
   "cell_type": "code",
   "execution_count": 9,
   "metadata": {},
   "outputs": [
    {
     "name": "stdout",
     "output_type": "stream",
     "text": [
      "{'section_number': '1', 'section_title': 'Introduction', 'section_text': 'Some introduction text here.'}\n",
      "--------------------------------------------------\n",
      "{'section_number': '2.1', 'section_title': 'Section Title', 'section_text': 'Content for section 2.1.'}\n",
      "--------------------------------------------------\n",
      "{'section_number': '2.1.1', 'section_title': 'Sub-section Title', 'section_text': 'Content for sub-section 2.1.1.'}\n",
      "--------------------------------------------------\n",
      "{'section_number': '2.1.2', 'section_title': 'Another Sub-section Title', 'section_text': 'Content for sub-section 2.1.2.'}\n",
      "--------------------------------------------------\n",
      "{'section_number': '2.2', 'section_title': 'New Section', 'section_text': 'Content for section 2.2.'}\n",
      "--------------------------------------------------\n"
     ]
    }
   ],
   "source": [
    "import re\n",
    "\n",
    "def preprocess_text(text):\n",
    "    # Remove page titles like \"ABCB Housing Provisions Standard 2022 Page 22\"\n",
    "    return re.sub(r'ABCB Housing Provisions Standard \\d+ Page \\d+', '', text)\n",
    "\n",
    "def extract_sections(text):\n",
    "    # Preprocess the text\n",
    "    text = preprocess_text(text)\n",
    "    \n",
    "    # Regular expression pattern to match section headers\n",
    "    pattern = re.compile(r'\\n\\s*(\\d+(\\.\\d+)*)\\s+([^0-9\\n]+)')\n",
    "    \n",
    "    matches = [match for match in pattern.finditer(text)]\n",
    "    \n",
    "    sections = []\n",
    "    for i, match in enumerate(matches):\n",
    "        start = match.end()\n",
    "        end = matches[i+1].start() if i+1 < len(matches) else None\n",
    "        \n",
    "        section_number = match.group(1)\n",
    "        section_title = match.group(3).strip()\n",
    "        section_text = text[start:end].strip()\n",
    "        \n",
    "        sections.append({\n",
    "            \"section_number\": section_number,\n",
    "            \"section_title\": section_title,\n",
    "            \"section_text\": section_text\n",
    "        })\n",
    "\n",
    "    return sections\n",
    "\n",
    "text = \"\"\"\n",
    "1 Introduction\n",
    "Some introduction text here.\n",
    "ABCB Housing Provisions Standard 2022 Page 21\n",
    "\n",
    "   2.1 Section Title\n",
    "Content for section 2.1.\n",
    "\n",
    "   2.1.1   Sub-section Title\n",
    "Content for sub-section 2.1.1.\n",
    "\n",
    "   2.1.2   Another Sub-section Title\n",
    "Content for sub-section 2.1.2.\n",
    "\n",
    " 2.2 New Section\n",
    "Content for section 2.2.\n",
    "ABCB Housing Provisions Standard 2022 Page 22\n",
    "\"\"\"\n",
    "\n",
    "sections = extract_sections(text)\n",
    "\n",
    "# Printing sections\n",
    "for section in sections:\n",
    "    print(section)\n",
    "    print(\"-\" * 50)  # Just to separate sections in the output\n"
   ]
  },
  {
   "cell_type": "code",
   "execution_count": null,
   "metadata": {},
   "outputs": [],
   "source": []
  }
 ],
 "metadata": {
  "kernelspec": {
   "display_name": "torch",
   "language": "python",
   "name": "python3"
  },
  "language_info": {
   "codemirror_mode": {
    "name": "ipython",
    "version": 3
   },
   "file_extension": ".py",
   "mimetype": "text/x-python",
   "name": "python",
   "nbconvert_exporter": "python",
   "pygments_lexer": "ipython3",
   "version": "3.11.3"
  },
  "orig_nbformat": 4
 },
 "nbformat": 4,
 "nbformat_minor": 2
}
